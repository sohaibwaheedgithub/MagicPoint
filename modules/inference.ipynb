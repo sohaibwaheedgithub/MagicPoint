{
 "cells": [
  {
   "cell_type": "code",
   "execution_count": 8,
   "metadata": {},
   "outputs": [],
   "source": [
    "import keras\n",
    "from constants import *\n",
    "from data_preparation import DataPreparation"
   ]
  },
  {
   "cell_type": "code",
   "execution_count": 9,
   "metadata": {},
   "outputs": [],
   "source": [
    "project_dir = \"/mnt/c/Users/SohaibWaheed/Desktop/Personal_Projects/Final_SuperPoint\"\n",
    "dataset_dir = project_dir + \"/dataset/tfrecords\"\n",
    "model_dir = project_dir + \"/nd_he_normal_standardized_saved_models\"\n",
    "validation_tfrecord = dataset_dir + \"/valid/valid_record_no_1.tfrecord\""
   ]
  },
  {
   "cell_type": "code",
   "execution_count": 10,
   "metadata": {},
   "outputs": [],
   "source": [
    "dataPreparation = DataPreparation(MP_BATCH_SIZE)\n",
    "\n",
    "# Validation Dataset\n",
    "validDataset = dataPreparation.loadDataset([validation_tfrecord])\n",
    "validDatasetIterator = validDataset.__iter__()\n",
    "magicPoint = keras.models.load_model(model_dir + \"/\" + \"magicPoint_445.keras\")"
   ]
  }
 ],
 "metadata": {
  "kernelspec": {
   "display_name": "superpoint",
   "language": "python",
   "name": "python3"
  },
  "language_info": {
   "codemirror_mode": {
    "name": "ipython",
    "version": 3
   },
   "file_extension": ".py",
   "mimetype": "text/x-python",
   "name": "python",
   "nbconvert_exporter": "python",
   "pygments_lexer": "ipython3",
   "version": "3.12.7"
  }
 },
 "nbformat": 4,
 "nbformat_minor": 2
}
